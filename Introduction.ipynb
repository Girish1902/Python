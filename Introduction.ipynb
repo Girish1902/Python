{
 "cells": [
  {
   "cell_type": "markdown",
   "metadata": {},
   "source": [
    "## **Introduction to Programming** ##"
   ]
  },
  {
   "cell_type": "markdown",
   "metadata": {},
   "source": [
    "Programming is the process of preparing an instructional program for a device to do some task without making mistakes."
   ]
  },
  {
   "cell_type": "markdown",
   "metadata": {},
   "source": [
    "There are two types of languages for communication between a computer and a programmer(human).\n",
    "\n",
    "**1. Machine language:** which is a binary code (series of 0s and 1s) and computers understood it and it is difficult for humans to understand.\n",
    "\n",
    "**2. Programming language:** which is a source code and humans understood it and computers could not."
   ]
  },
  {
   "cell_type": "markdown",
   "metadata": {},
   "source": [
    "## What is Programming Language?"
   ]
  },
  {
   "cell_type": "markdown",
   "metadata": {},
   "source": [
    "A programming language is a formal language, which includes a set of instructions that helps a\n",
    "programmer to communicate or interact with a computer.\n",
    "\n",
    "**What is Programming Language?**\n",
    "\n",
    "Programming Language is classified into two categories, based on the level (Degree) of abstraction\n",
    "and gap between source code and machine code.\n",
    "\n",
    "**1. Source code** is any collection of code, written using a human-readable programming language,\n",
    "usually as plain text.\n",
    "\n",
    "**2. Machine code** is a computer program written in machine language instructions that can be\n",
    "executed directly by a computer's control unit."
   ]
  },
  {
   "cell_type": "markdown",
   "metadata": {},
   "source": [
    "## High-level language Vs low-level language\n",
    "\n",
    "**High level programming languages** are those which are programmer friendly. Humans can easily understand it which helps in easy maintaining and debugging of the code.\n",
    "\n",
    "Examples – Java, C, C++, Python\n",
    "\n",
    "**Low level programming languages** are those which are machine friendly. Humans can’t understand\n",
    "such languages. In other words, low level languages are not human readable.\n",
    "\n",
    "Examples – Assembly language, Machine language"
   ]
  },
  {
   "cell_type": "markdown",
   "metadata": {},
   "source": [
    "## What is Compiler?"
   ]
  },
  {
   "cell_type": "markdown",
   "metadata": {},
   "source": [
    "A compiler is a computer program that translates source code written in one programming language\n",
    "(the source language) into another language (the target language) to create an executable program."
   ]
  },
  {
   "cell_type": "markdown",
   "metadata": {},
   "source": [
    "## What is Interpreter?"
   ]
  },
  {
   "cell_type": "markdown",
   "metadata": {},
   "source": [
    "An interpreter is a computer program that directly executes instructions written in a programming\n",
    "language, without requiring them previously to have been compiled into a machine language\n",
    "program."
   ]
  },
  {
   "cell_type": "markdown",
   "metadata": {},
   "source": [
    "## **Compiler Vs Interpreter**"
   ]
  },
  {
   "cell_type": "markdown",
   "metadata": {},
   "source": [
    "All the programming languages are converted to machine understandable language for execution.\n",
    "The conversion is taken care of by compilers and interpreters.\n",
    "\n",
    "A compiler takes the source code and converts it into machine executable code at once. The\n",
    "processor takes the executable and executes it. The languages which use a compiler are called\n",
    "compiled languages. Compiled languages are faster and more efficient comparatively.\n",
    "\n",
    "Examples – Java, C++\n",
    "\n",
    "An interpreter is one which runs the code line by line and executes instruction by instruction. The\n",
    "languages which use interpreters are called Interpreted languages. Such languages are slower in\n",
    "terms of execution and less efficient."
   ]
  },
  {
   "cell_type": "markdown",
   "metadata": {},
   "source": [
    "**What is IDE?**\n",
    "\n",
    "IDE (Integrated Development Environment) is a place (graphic interface) to write, run, and debug\n",
    "(check errors) code and also convert your source code to machine code.\n",
    "\n",
    "Examples: Visual Studio, IDLE, PyCharm, Jupyter Notebook"
   ]
  },
  {
   "cell_type": "markdown",
   "metadata": {},
   "source": [
    "**What is Syntax?**\n",
    "\n",
    "Syntax is set of rules you must follow to run your program correctly. Syntax for each programming\n",
    "language is unique.\n",
    "\n",
    "PS. Breaking programming rules will result in an error.\n",
    "\n",
    "Example:\n",
    "\n",
    "Mens clothes are cheap.\n",
    "\n",
    "Men’s clothes are cheap."
   ]
  },
  {
   "cell_type": "markdown",
   "metadata": {},
   "source": [
    "**What is Python?**\n",
    "\n",
    "Python is simple, general purpose, dynamic, object oriented, interpreted as well as compiled, high-level programming language.\n",
    "\n",
    "In details Python is\n",
    "\n",
    "    Simple – It is easy to learn and code.\n",
    "\n",
    "    General purpose – It can be used to build just about anything.\n",
    "\n",
    "    High level language – It is human readable language which easily understandable and\n",
    "\n",
    "    Easy to debug – It is easy to check and correct your error.\n",
    "\n",
    "    Dynamic – You don’t need to write everything to instruct your computer.\n",
    "\n",
    "    Object Oriented – Structure of python program can be grouped based on its behavior.\n",
    "    \n",
    "    Interpreted as well as compiled – Python is basically called an interpreted language, but can also be called a compiled interpreted language."
   ]
  },
  {
   "cell_type": "markdown",
   "metadata": {},
   "source": [
    "# **History or Origin of Python**"
   ]
  },
  {
   "cell_type": "markdown",
   "metadata": {},
   "source": [
    "It was invented in the Netherlands in the early 90’s.\n",
    "\n",
    "Guido Van Rossum was the creator of this beautiful language.\n",
    "\n",
    "Guido released the first version in 1991.\n",
    "\n",
    "Python was derived from ABC programming language, a general purpose programming\n",
    "language.\n",
    "\n",
    "It is open source software which can be downloaded freely and the code is customizable as well"
   ]
  },
  {
   "cell_type": "markdown",
   "metadata": {},
   "source": [
    "# **Features of Python**\n",
    "\n",
    "**Simple** - Python syntax is very easy. Developing and understanding python is very easy than others. The below comparison illustrated how simple python language is when compared to other languages.\n",
    "\n",
    "**Hello World Program in C language**\n",
    "\n",
    "    #include <stdio.h>\n",
    "\n",
    "    int main()\n",
    "\n",
    "    {\n",
    "\n",
    "    printf(\"Hello World\")\n",
    "\n",
    "    return 0\n",
    "\n",
    "    }\n",
    "\n",
    "**Hello World Program in Python**\n",
    "\n",
    "    print(\"Hello World\")\n",
    "\n",
    "\n",
    "\n",
    "**Open Source** - We can download freely and customize the code as well\n",
    "\n",
    "**Platform independent** - Python programs are not dependent on any specific operating systems. We can run on all operating systems happily.\n",
    "\n",
    "**Portable** - If a program gives the same result on any platform then it is a portable program. Python used to give the same result on any platform.\n",
    "\n",
    "**Huge library** - Python has a big library to fulfil the requirements.\n",
    "\n",
    "**Database connectivity** - Python provides interfaces to connect with all major databases like, oracle, MySQL."
   ]
  }
 ],
 "metadata": {
  "language_info": {
   "name": "python"
  }
 },
 "nbformat": 4,
 "nbformat_minor": 2
}
