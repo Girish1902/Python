{
 "cells": [
  {
   "cell_type": "markdown",
   "metadata": {},
   "source": [
    "# **Introduction to Variables**"
   ]
  },
  {
   "cell_type": "markdown",
   "metadata": {},
   "source": [
    "# **What is Variable?**\n",
    "\n",
    "Variable is the name which we give to the memory location which holds some data. With a variable we can\n",
    "store the data, access the data and also manipulate the data."
   ]
  },
  {
   "cell_type": "markdown",
   "metadata": {},
   "source": [
    "**Properties of a Variable**\n",
    "\n",
    "**1. Type:**\n",
    "\n",
    "What type of data you store in the variable?\n",
    "Each data have a type whether it is number word or something and each variable should belong to one of the\n",
    "data types. This is called the data type of the variable.\n",
    "\n",
    "**2. Scope:**\n",
    "\n",
    "Who can access these data?\n",
    "\n",
    "In any programming language, scope refers to the place or limit or boundaries or the part of the program\n",
    "within which the variable is accessible.\n",
    "\n",
    "**3. Value:**\n",
    "\n",
    "What do you store in the variable?\n",
    "\n",
    "Each and every variable in a program holds value of some type which can be accessed or modified during the\n",
    "due flow of the program.\n",
    "\n",
    "**4. Location:**\n",
    "\n",
    "Where you store the variable?\n",
    "\n",
    "As already stated, the data is stored in memory location. The variable is the name which we give to that\n",
    "location. Each memory location has some address associated with it.\n",
    "\n",
    "**5. Lifetime:**\n",
    "\n",
    "Till when the variable will be available?\n",
    "\n",
    "The lifetime of a variable refers to the time period for which the memory location associated with the variable\n",
    "stores the data."
   ]
  },
  {
   "cell_type": "markdown",
   "metadata": {},
   "source": [
    "**How to create a variable in Python?**\n",
    "\n",
    "In python, to create a variable we just need to specify\n",
    "\n",
    "- Name of the variable\n",
    "\n",
    "- Assign value to the variable\n",
    "\n",
    "Syntax to create variable:\n",
    "**name_of_the_variable = value**"
   ]
  },
  {
   "cell_type": "markdown",
   "metadata": {},
   "source": [
    "**What is print() function?**\n",
    "\n",
    "print() is a function that can print the specified message to your computer screen.\n",
    "\n",
    "Syntax to print a message / text:\n",
    "**print(\"write your message here\")**"
   ]
  },
  {
   "cell_type": "code",
   "execution_count": 3,
   "metadata": {},
   "outputs": [
    {
     "name": "stdout",
     "output_type": "stream",
     "text": [
      "22\n"
     ]
    }
   ],
   "source": [
    "Age = 22\n",
    "print(Age)"
   ]
  },
  {
   "cell_type": "code",
   "execution_count": 5,
   "metadata": {},
   "outputs": [
    {
     "name": "stdout",
     "output_type": "stream",
     "text": [
      "my age is :  22\n"
     ]
    }
   ],
   "source": [
    "print('my age is : ',Age)"
   ]
  },
  {
   "cell_type": "code",
   "execution_count": 6,
   "metadata": {},
   "outputs": [
    {
     "name": "stdout",
     "output_type": "stream",
     "text": [
      "Today date is :  6\n"
     ]
    }
   ],
   "source": [
    "date=6\n",
    "print('Today date is : ',date)"
   ]
  },
  {
   "cell_type": "markdown",
   "metadata": {},
   "source": [
    "**What is input function?**\n",
    "\n",
    "input() is a function that can accept values from a user (you).\n",
    "\n",
    "Syntax to submit value of a variable:\n",
    "\n",
    "**name_of_the_variable = input(\"Ask user to enter a value\")**"
   ]
  },
  {
   "cell_type": "code",
   "execution_count": 7,
   "metadata": {},
   "outputs": [
    {
     "name": "stdout",
     "output_type": "stream",
     "text": [
      "my age is : 22\n"
     ]
    }
   ],
   "source": [
    "age = input('enter the age :')\n",
    "print('my age is :',age)"
   ]
  },
  {
   "cell_type": "code",
   "execution_count": 8,
   "metadata": {},
   "outputs": [
    {
     "name": "stdout",
     "output_type": "stream",
     "text": [
      "date of birth is: 3\n"
     ]
    }
   ],
   "source": [
    "db=input('enter the date of birth')\n",
    "print('date of birth is:',db)"
   ]
  },
  {
   "cell_type": "markdown",
   "metadata": {},
   "source": [
    "**Invalid cases for variables**\n",
    "\n",
    "While defining variables in python,\n",
    "\n",
    "- Variable names should be on the left side.\n",
    "- Value should be on the right side.\n",
    "- Violating this will result in syntax error.\n"
   ]
  },
  {
   "cell_type": "code",
   "execution_count": 9,
   "metadata": {},
   "outputs": [
    {
     "ename": "SyntaxError",
     "evalue": "cannot assign to literal here. Maybe you meant '==' instead of '='? (106372718.py, line 1)",
     "output_type": "error",
     "traceback": [
      "\u001b[1;36m  Cell \u001b[1;32mIn[9], line 1\u001b[1;36m\u001b[0m\n\u001b[1;33m    17 = age\u001b[0m\n\u001b[1;37m    ^\u001b[0m\n\u001b[1;31mSyntaxError\u001b[0m\u001b[1;31m:\u001b[0m cannot assign to literal here. Maybe you meant '==' instead of '='?\n"
     ]
    }
   ],
   "source": [
    "17 = age"
   ]
  },
  {
   "cell_type": "markdown",
   "metadata": {},
   "source": [
    "**Rules for creating a variable**\n",
    "\n",
    "1. must start with letter or underscore\n"
   ]
  },
  {
   "cell_type": "code",
   "execution_count": 10,
   "metadata": {},
   "outputs": [
    {
     "name": "stdout",
     "output_type": "stream",
     "text": [
      "23\n"
     ]
    }
   ],
   "source": [
    "_age = 23\n",
    "print(_age)"
   ]
  },
  {
   "cell_type": "markdown",
   "metadata": {},
   "source": [
    "**2. cannot start with number**"
   ]
  },
  {
   "cell_type": "code",
   "execution_count": 11,
   "metadata": {},
   "outputs": [
    {
     "ename": "SyntaxError",
     "evalue": "invalid decimal literal (3034727836.py, line 1)",
     "output_type": "error",
     "traceback": [
      "\u001b[1;36m  Cell \u001b[1;32mIn[11], line 1\u001b[1;36m\u001b[0m\n\u001b[1;33m    1dollar = 76\u001b[0m\n\u001b[1;37m    ^\u001b[0m\n\u001b[1;31mSyntaxError\u001b[0m\u001b[1;31m:\u001b[0m invalid decimal literal\n"
     ]
    }
   ],
   "source": [
    " 1dollar = 76"
   ]
  },
  {
   "cell_type": "markdown",
   "metadata": {},
   "source": [
    "**3. cannot use any special symbol**"
   ]
  },
  {
   "cell_type": "code",
   "execution_count": 12,
   "metadata": {},
   "outputs": [
    {
     "ename": "SyntaxError",
     "evalue": "invalid syntax (1297499432.py, line 1)",
     "output_type": "error",
     "traceback": [
      "\u001b[1;36m  Cell \u001b[1;32mIn[12], line 1\u001b[1;36m\u001b[0m\n\u001b[1;33m    $dollar = 74\u001b[0m\n\u001b[1;37m    ^\u001b[0m\n\u001b[1;31mSyntaxError\u001b[0m\u001b[1;31m:\u001b[0m invalid syntax\n"
     ]
    }
   ],
   "source": [
    "$dollar = 74"
   ]
  },
  {
   "cell_type": "markdown",
   "metadata": {},
   "source": [
    "**4. can’t use space ( instead use underscore )**"
   ]
  },
  {
   "cell_type": "code",
   "execution_count": 15,
   "metadata": {},
   "outputs": [
    {
     "ename": "SyntaxError",
     "evalue": "invalid syntax (1064655831.py, line 1)",
     "output_type": "error",
     "traceback": [
      "\u001b[1;36m  Cell \u001b[1;32mIn[15], line 1\u001b[1;36m\u001b[0m\n\u001b[1;33m    My Age = 24\u001b[0m\n\u001b[1;37m       ^\u001b[0m\n\u001b[1;31mSyntaxError\u001b[0m\u001b[1;31m:\u001b[0m invalid syntax\n"
     ]
    }
   ],
   "source": [
    " My Age = 24"
   ]
  },
  {
   "cell_type": "markdown",
   "metadata": {},
   "source": [
    "**5. are case sensitive**\n",
    "\n",
    "Case sensitive means you can’t use lowercase letters in place of uppercase and vice versa"
   ]
  },
  {
   "cell_type": "code",
   "execution_count": 17,
   "metadata": {},
   "outputs": [
    {
     "ename": "NameError",
     "evalue": "name '_Age' is not defined",
     "output_type": "error",
     "traceback": [
      "\u001b[1;31m---------------------------------------------------------------------------\u001b[0m",
      "\u001b[1;31mNameError\u001b[0m                                 Traceback (most recent call last)",
      "Cell \u001b[1;32mIn[17], line 2\u001b[0m\n\u001b[0;32m      1\u001b[0m age \u001b[38;5;241m=\u001b[39m \u001b[38;5;241m21\u001b[39m\n\u001b[1;32m----> 2\u001b[0m \u001b[38;5;28mprint\u001b[39m(_Age)\n",
      "\u001b[1;31mNameError\u001b[0m: name '_Age' is not defined"
     ]
    }
   ],
   "source": [
    "age = 21\n",
    "print(_Age)"
   ]
  },
  {
   "cell_type": "markdown",
   "metadata": {},
   "source": [
    "**6. cannot be a keyword.**\n",
    "\n",
    "# Keywords"
   ]
  },
  {
   "cell_type": "markdown",
   "metadata": {},
   "source": [
    "What is keyword?\n",
    "\n",
    "Keywords are special reserved words, that have specific meanings and purposes.\n",
    "All 33 keywords in python contain only alphabet symbols. All of them are in lower case except True, False,\n",
    "and None.\n",
    "\n",
    "To see all the keywords –\n",
    "\n",
    "1. import keyword\n",
    "\n",
    "2. keyword.kwlist\n",
    "\n",
    "['False',\n",
    "'None',\n",
    "'True',\n",
    "'and',\n",
    "'as',\n",
    "'assert',\n",
    "'async',\n",
    "'await',\n",
    "'break',\n",
    "'class',\n",
    "'continue',\n",
    "'def',\n",
    "'del',\n",
    "'elif',\n",
    "'else',\n",
    "'except',\n",
    "'finally',\n",
    "'for',\n",
    "'from',\n",
    "'global',\n",
    "'if',\n",
    "'import',\n",
    "'in',\n",
    "'is',\n",
    "'lambda',\n",
    "'nonlocal',\n",
    "'not',\n",
    "'or',\n",
    "'pass',\n",
    "'raise',\n",
    "'return',\n",
    "'try',\n",
    "'while',\n",
    "'with',\n",
    "'yield']\n",
    "\n",
    "**PS. You cannot use these keywords as a variable, else will result in error**"
   ]
  },
  {
   "cell_type": "code",
   "execution_count": 18,
   "metadata": {},
   "outputs": [
    {
     "ename": "SyntaxError",
     "evalue": "invalid syntax (1046637837.py, line 1)",
     "output_type": "error",
     "traceback": [
      "\u001b[1;36m  Cell \u001b[1;32mIn[18], line 1\u001b[1;36m\u001b[0m\n\u001b[1;33m    class = 4\u001b[0m\n\u001b[1;37m          ^\u001b[0m\n\u001b[1;31mSyntaxError\u001b[0m\u001b[1;31m:\u001b[0m invalid syntax\n"
     ]
    }
   ],
   "source": [
    "class = 4"
   ]
  },
  {
   "cell_type": "markdown",
   "metadata": {},
   "source": [
    "Multiple Variables in a Single Line\n",
    "\n",
    "We can assign multiple variables to multiple values in a single one line. During assignment the variable name\n",
    "on the left hand side should be equal with the values on the right hand side. If not it results in error.\n",
    "\n",
    "Ex. 3.13 ( Assigning multiple variables)"
   ]
  },
  {
   "cell_type": "code",
   "execution_count": 19,
   "metadata": {},
   "outputs": [
    {
     "name": "stdout",
     "output_type": "stream",
     "text": [
      "24 9 4327\n"
     ]
    }
   ],
   "source": [
    "Sid, age, grade = 4327, 24, 9\n",
    "print(age, grade, Sid)"
   ]
  },
  {
   "cell_type": "code",
   "execution_count": 21,
   "metadata": {},
   "outputs": [
    {
     "ename": "ValueError",
     "evalue": "not enough values to unpack (expected 3, got 2)",
     "output_type": "error",
     "traceback": [
      "\u001b[1;31m---------------------------------------------------------------------------\u001b[0m",
      "\u001b[1;31mValueError\u001b[0m                                Traceback (most recent call last)",
      "Cell \u001b[1;32mIn[21], line 2\u001b[0m\n\u001b[0;32m      1\u001b[0m \u001b[38;5;66;03m#( Unequal items on either side )\u001b[39;00m\n\u001b[1;32m----> 2\u001b[0m Sid, age, grade \u001b[38;5;241m=\u001b[39m \u001b[38;5;241m4327\u001b[39m, \u001b[38;5;241m24\u001b[39m\n",
      "\u001b[1;31mValueError\u001b[0m: not enough values to unpack (expected 3, got 2)"
     ]
    }
   ],
   "source": [
    "#( Unequal items on either side )\n",
    "Sid, age, grade = 4327, 24"
   ]
  },
  {
   "cell_type": "code",
   "execution_count": 22,
   "metadata": {},
   "outputs": [
    {
     "ename": "ValueError",
     "evalue": "too many values to unpack (expected 2)",
     "output_type": "error",
     "traceback": [
      "\u001b[1;31m---------------------------------------------------------------------------\u001b[0m",
      "\u001b[1;31mValueError\u001b[0m                                Traceback (most recent call last)",
      "Cell \u001b[1;32mIn[22], line 2\u001b[0m\n\u001b[0;32m      1\u001b[0m \u001b[38;5;66;03m#( Unequal items on either side )\u001b[39;00m\n\u001b[1;32m----> 2\u001b[0m Sid, age \u001b[38;5;241m=\u001b[39m \u001b[38;5;241m4327\u001b[39m, \u001b[38;5;241m24\u001b[39m, \u001b[38;5;241m9\u001b[39m\n",
      "\u001b[1;31mValueError\u001b[0m: too many values to unpack (expected 2)"
     ]
    }
   ],
   "source": [
    "#( Unequal items on either side )\n",
    "Sid, age = 4327, 24, 9"
   ]
  },
  {
   "cell_type": "markdown",
   "metadata": {},
   "source": [
    "**Single Value for multiple Variables**\n",
    "\n",
    "We can assign a single value to multiple variables simultaneously."
   ]
  },
  {
   "cell_type": "code",
   "execution_count": 23,
   "metadata": {},
   "outputs": [
    {
     "name": "stdout",
     "output_type": "stream",
     "text": [
      "10 10 10\n"
     ]
    }
   ],
   "source": [
    "#( Assign single value to multiple variables)\n",
    "\n",
    "Sid = age = grade = 10\n",
    "print(Sid, age, grade)"
   ]
  },
  {
   "cell_type": "markdown",
   "metadata": {},
   "source": [
    "**Variable Operations**\n",
    "\n",
    "**1. Memory Location of a variable**\n",
    "\n",
    "you can get Memory location of a variable using the syntax below:\n",
    "\n",
    "id(variable_name)"
   ]
  },
  {
   "cell_type": "code",
   "execution_count": 24,
   "metadata": {},
   "outputs": [
    {
     "name": "stdout",
     "output_type": "stream",
     "text": [
      "1$ =  69\n",
      "MA of dollar: 140732434009000\n"
     ]
    }
   ],
   "source": [
    "dollar = 69\n",
    "print(\"1$ = \",dollar)\n",
    "print(\"MA of dollar:\",id(dollar))"
   ]
  },
  {
   "cell_type": "markdown",
   "metadata": {},
   "source": [
    "**2. Reassigning**\n",
    "\n",
    "you can update / reassign value of a variable using the syntax below:\n",
    "\n",
    "variable_name = new_value"
   ]
  },
  {
   "cell_type": "code",
   "execution_count": 25,
   "metadata": {},
   "outputs": [
    {
     "name": "stdout",
     "output_type": "stream",
     "text": [
      "In 2019, $1 = 69\n",
      "MA of dollar in 2019: 140732434009000\n",
      "In 2020, $1 =  72\n",
      "MA of dollar in 2020: 140732434009096\n"
     ]
    }
   ],
   "source": [
    "dollar = 69\n",
    "print(\"In 2019, $1 =\",dollar)\n",
    "print(\"MA of dollar in 2019:\",id(dollar))\n",
    "dollar = 72\n",
    "print(\"In 2020, $1 = \",dollar)\n",
    "print(\"MA of dollar in 2020:\",id(dollar))"
   ]
  },
  {
   "cell_type": "markdown",
   "metadata": {},
   "source": [
    "**3. Deleting**\n",
    "\n",
    "you can delete a variable using the syntax below:\n",
    "\n",
    "del variable_name"
   ]
  },
  {
   "cell_type": "code",
   "execution_count": 26,
   "metadata": {},
   "outputs": [
    {
     "ename": "NameError",
     "evalue": "name 'age' is not defined",
     "output_type": "error",
     "traceback": [
      "\u001b[1;31m---------------------------------------------------------------------------\u001b[0m",
      "\u001b[1;31mNameError\u001b[0m                                 Traceback (most recent call last)",
      "Cell \u001b[1;32mIn[26], line 3\u001b[0m\n\u001b[0;32m      1\u001b[0m age \u001b[38;5;241m=\u001b[39m \u001b[38;5;241m22\u001b[39m\n\u001b[0;32m      2\u001b[0m \u001b[38;5;28;01mdel\u001b[39;00m age\n\u001b[1;32m----> 3\u001b[0m \u001b[38;5;28mprint\u001b[39m(age)\n",
      "\u001b[1;31mNameError\u001b[0m: name 'age' is not defined"
     ]
    }
   ],
   "source": [
    "age = 22\n",
    "del age\n",
    "print(age)"
   ]
  },
  {
   "cell_type": "markdown",
   "metadata": {},
   "source": [
    "**Finally, What about Constants?**\n",
    "\n",
    "A constant is a type of variable whose value cannot be changed. It is helpful to think of constants as\n",
    "containers that hold information which cannot be changed later\n",
    "\n",
    "Example – GRAVITY = 9.81"
   ]
  },
  {
   "cell_type": "code",
   "execution_count": 27,
   "metadata": {},
   "outputs": [
    {
     "name": "stdout",
     "output_type": "stream",
     "text": [
      "apple price : 33 and MA 2153424554992\n",
      "apple price : 34 and MA 140732434007880\n"
     ]
    },
    {
     "ename": "NameError",
     "evalue": "name 'ap' is not defined",
     "output_type": "error",
     "traceback": [
      "\u001b[1;31m---------------------------------------------------------------------------\u001b[0m",
      "\u001b[1;31mNameError\u001b[0m                                 Traceback (most recent call last)",
      "Cell \u001b[1;32mIn[27], line 6\u001b[0m\n\u001b[0;32m      4\u001b[0m \u001b[38;5;28mprint\u001b[39m(\u001b[38;5;124m'\u001b[39m\u001b[38;5;124mapple price :\u001b[39m\u001b[38;5;124m'\u001b[39m,ap,\u001b[38;5;124m'\u001b[39m\u001b[38;5;124mand MA\u001b[39m\u001b[38;5;124m'\u001b[39m,\u001b[38;5;28mid\u001b[39m(ap))\n\u001b[0;32m      5\u001b[0m \u001b[38;5;28;01mdel\u001b[39;00m ap\n\u001b[1;32m----> 6\u001b[0m \u001b[38;5;28mprint\u001b[39m(\u001b[38;5;124m'\u001b[39m\u001b[38;5;124mapple price :\u001b[39m\u001b[38;5;124m'\u001b[39m,ap,\u001b[38;5;124m'\u001b[39m\u001b[38;5;124mand MA\u001b[39m\u001b[38;5;124m'\u001b[39m,\u001b[38;5;28mid\u001b[39m(ap))\n",
      "\u001b[1;31mNameError\u001b[0m: name 'ap' is not defined"
     ]
    }
   ],
   "source": [
    "ap = input('enter the apple price :')\n",
    "print('apple price :',ap,'and MA',id(ap))\n",
    "ap = 34\n",
    "print('apple price :',ap,'and MA',id(ap))\n",
    "del ap\n",
    "print('apple price :',ap,'and MA',id(ap))\n"
   ]
  }
 ],
 "metadata": {
  "kernelspec": {
   "display_name": "base",
   "language": "python",
   "name": "python3"
  },
  "language_info": {
   "codemirror_mode": {
    "name": "ipython",
    "version": 3
   },
   "file_extension": ".py",
   "mimetype": "text/x-python",
   "name": "python",
   "nbconvert_exporter": "python",
   "pygments_lexer": "ipython3",
   "version": "3.11.7"
  }
 },
 "nbformat": 4,
 "nbformat_minor": 2
}
