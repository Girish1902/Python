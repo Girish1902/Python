{
 "cells": [
  {
   "cell_type": "markdown",
   "metadata": {},
   "source": [
    "# Data type"
   ]
  },
  {
   "cell_type": "markdown",
   "metadata": {},
   "source": [
    "**What is a data type?**\n",
    "\n",
    "Data Type is type of data that to be stored in a variable, simple as that.\n",
    "\n",
    "Generally based on their creations data types can be classified into two types:\n",
    "\n",
    "**1. User defined data types: Data types which are created by programmer (you), example is class, module,\n",
    "array etc.**\n",
    "\n",
    "**2. Built-in data types: Data types which are already available in python.**\n",
    "\n",
    "Built-in data types also classified into:\n",
    "- None\n",
    "\n",
    "- Bool / booleans\n",
    "\n",
    "- Numeric types\n",
    "\n",
    "    - Int\n",
    "    - Float\n",
    "    - Complex\n",
    "\n",
    "- Sequences / Collections\n",
    "    - list\n",
    "    - tuple\n",
    "    - set\n",
    "    - dict\n",
    "    - str"
   ]
  },
  {
   "cell_type": "markdown",
   "metadata": {},
   "source": [
    "**None data type**\n",
    "\n",
    "None data type represents an object that does not contain any value. If any object has no value, then we can\n",
    "assign that object with None type.\n",
    "\n",
    "    Syntax to create None data type variable:\n",
    "\n",
    "    variable_name = None\n",
    "\n",
    "*How to know a variable is belongs to specific data type?*\n",
    "\n",
    "    Syntax to know data type of a variable:\n",
    "\n",
    "    type(variable_name)"
   ]
  },
  {
   "cell_type": "markdown",
   "metadata": {},
   "source": [
    "**What is type() function?**\n",
    "\n",
    "type() is an in built or pre-defined function, which is used to check data type of a variable.\n",
    "\n",
    "Ex 4.1 ( Printing None data type )"
   ]
  },
  {
   "cell_type": "code",
   "execution_count": 2,
   "metadata": {},
   "outputs": [
    {
     "name": "stdout",
     "output_type": "stream",
     "text": [
      "The Box is : None\n",
      "<class 'NoneType'>\n"
     ]
    }
   ],
   "source": [
    "box = None\n",
    "print('The Box is :',box)\n",
    "print(type(box))"
   ]
  },
  {
   "cell_type": "markdown",
   "metadata": {},
   "source": [
    "**Bool ( boolean ) data Type**\n",
    "\n",
    "The bool data type represents boolean values in python. bool data type having only two values those are, True and False. Python internally represents, True as 1(one) and False as 0(zero)."
   ]
  },
  {
   "cell_type": "code",
   "execution_count": 4,
   "metadata": {},
   "outputs": [
    {
     "name": "stdout",
     "output_type": "stream",
     "text": [
      "Garvity is = 9.81 True\n",
      "2 + 2 = 6 False\n",
      "<class 'bool'>\n",
      "<class 'bool'>\n"
     ]
    }
   ],
   "source": [
    "a = True\n",
    "b = False\n",
    "print('Garvity is = 9.81',a)\n",
    "print('2 + 2 = 6',b)\n",
    "print(type(a))\n",
    "print(type(b))"
   ]
  },
  {
   "cell_type": "markdown",
   "metadata": {},
   "source": [
    "**Numeric Data Types**\n",
    "\n",
    "    1. int data type\n",
    "\n",
    "The int data type represents values or numbers without decimal values. In python there is no limit for int data type. It can store very large values conveniently."
   ]
  },
  {
   "cell_type": "code",
   "execution_count": 5,
   "metadata": {},
   "outputs": [
    {
     "name": "stdout",
     "output_type": "stream",
     "text": [
      "My student ID is:  12345\n",
      "<class 'int'>\n"
     ]
    }
   ],
   "source": [
    "#( Print integer value )\n",
    "Sid = 12345\n",
    "print('My student ID is: ', Sid)\n",
    "print(type(Sid))"
   ]
  },
  {
   "cell_type": "code",
   "execution_count": 6,
   "metadata": {},
   "outputs": [
    {
     "name": "stdout",
     "output_type": "stream",
     "text": [
      "Num of Courses in Sem:  5\n",
      "<class 'int'>\n"
     ]
    }
   ],
   "source": [
    "s = 5\n",
    "print('Num of Courses in Sem: ',s)\n",
    "print(type(s))"
   ]
  },
  {
   "cell_type": "markdown",
   "metadata": {},
   "source": [
    "    2. float data type\n",
    "\n",
    "The float data type represents a number with decimal values."
   ]
  },
  {
   "cell_type": "code",
   "execution_count": 7,
   "metadata": {},
   "outputs": [
    {
     "name": "stdout",
     "output_type": "stream",
     "text": [
      "My garde is : 9.74\n",
      "<class 'float'>\n"
     ]
    }
   ],
   "source": [
    "# print float values\n",
    "\n",
    "grade = 9.74\n",
    "print('My garde is :', grade)\n",
    "print(type(grade))"
   ]
  },
  {
   "cell_type": "markdown",
   "metadata": {},
   "source": [
    "    3. complex data type\n",
    "\n",
    "The complex data type represents the numbers which is written in the form of a+bj or a-bj, here a is\n",
    "representing a real and b is representing an imaginary part of the number. The suffix small j or upper J after b\n",
    "indicates the square root of -1. The part \"a\" and \"b\" may contain integers or floats.\n"
   ]
  },
  {
   "cell_type": "code",
   "execution_count": 8,
   "metadata": {},
   "outputs": [
    {
     "name": "stdout",
     "output_type": "stream",
     "text": [
      "(3+6j) (2-5.5j) (2.4+7j)\n",
      "<class 'complex'>\n"
     ]
    }
   ],
   "source": [
    "#( Print complex value )\n",
    "\n",
    "a = 3 + 6j\n",
    "b = 2 - 5.5j\n",
    "c = 2.4 + 7j\n",
    "print(a, b, c)\n",
    "print(type(a))"
   ]
  },
  {
   "cell_type": "markdown",
   "metadata": {},
   "source": [
    "**Sequence Data Types**\n",
    "\n",
    "Sequences in python are objects that can store a group of values. The below data types are called sequences.\n",
    "- String\n",
    "- List\n",
    "- Tuple\n",
    "- Set\n",
    "- Dictionary\n"
   ]
  },
  {
   "cell_type": "markdown",
   "metadata": {},
   "source": [
    "    1. String data type\n",
    "\n",
    "A group of characters enclosed within single quotes or double quotes or triple quotes is called a string.\n"
   ]
  },
  {
   "cell_type": "code",
   "execution_count": 10,
   "metadata": {},
   "outputs": [
    {
     "name": "stdout",
     "output_type": "stream",
     "text": [
      "my name is : Jhon\n",
      "<class 'str'>\n"
     ]
    }
   ],
   "source": [
    "# Printing string using single quotes\n",
    "\n",
    "name = 'Jhon'\n",
    "print('my name is :',name)\n",
    "print(type(name))"
   ]
  },
  {
   "cell_type": "code",
   "execution_count": 12,
   "metadata": {},
   "outputs": [
    {
     "name": "stdout",
     "output_type": "stream",
     "text": [
      "This is  Jhon's book\n",
      "<class 'str'>\n"
     ]
    }
   ],
   "source": [
    "# Printing the string using double quotes\n",
    "\n",
    "book = \"Jhon's book\"\n",
    "print('This is ',book)\n",
    "print(type(book))"
   ]
  },
  {
   "cell_type": "code",
   "execution_count": 20,
   "metadata": {},
   "outputs": [
    {
     "name": "stdout",
     "output_type": "stream",
     "text": [
      "\"John’s book is awesome.\" Michael J.\n",
      "<class 'str'>\n"
     ]
    }
   ],
   "source": [
    "\n",
    "# ( Printing string using triple quote )\n",
    "\n",
    "v = '\"John’s book is awesome.\"'\n",
    "print(\"{} Michael J.\".format(v))\n",
    "print(type(v))"
   ]
  },
  {
   "cell_type": "code",
   "execution_count": 3,
   "metadata": {},
   "outputs": [
    {
     "name": "stdout",
     "output_type": "stream",
     "text": [
      "'giri's' My Name song Run life ante race The Quote Life is a Race\n"
     ]
    }
   ],
   "source": [
    "n, s, q = \"giri's'\",'Run life ante race','Life is a Race'\n",
    "print(\"{} My Name\".format(n),\"song\",s,\"The Quote\",q)"
   ]
  },
  {
   "cell_type": "markdown",
   "metadata": {},
   "source": [
    "**What is comment?**\n",
    "\n",
    "Comment is a programmer-readable explanation or annotation in the source code.\n",
    "Must know about Comment\n",
    "\n",
    "* 1. Comments are useful to describe the code in an easy way.\n",
    "* 2. Python ignores comments while running the program.\n",
    "* 3. To comment python code, we can use hash symbol #\n",
    "* 4. For multi-line comments, we can use single / double / triple quotation marks."
   ]
  },
  {
   "cell_type": "code",
   "execution_count": 5,
   "metadata": {},
   "outputs": [
    {
     "name": "stdout",
     "output_type": "stream",
     "text": [
      "Hello World\n"
     ]
    }
   ],
   "source": [
    "# My First Python program\n",
    "# Author: John Michael\n",
    "# Date: 21/07/2024\n",
    "print(\"Hello World\")"
   ]
  },
  {
   "cell_type": "markdown",
   "metadata": {},
   "source": [
    "    2. List data type\n",
    "\n",
    "We can create list data structure by using square brackets [ ]. A list can store different data types. list is mutable (elements can be removed or added).\n",
    "\n",
    "    Syntax to create List :\n",
    "\n",
    "    name_of_list = [element,...]"
   ]
  },
  {
   "cell_type": "code",
   "execution_count": 6,
   "metadata": {},
   "outputs": [
    {
     "name": "stdout",
     "output_type": "stream",
     "text": [
      "My Details [1, 'giri', 9.5, 'pass', 1]\n",
      "<class 'list'>\n"
     ]
    }
   ],
   "source": [
    "# creating list\n",
    "\n",
    "Details = [1,'giri',9.5,'pass',1]\n",
    "print('My Details',Details)\n",
    "print(type(Details))"
   ]
  },
  {
   "cell_type": "code",
   "execution_count": 7,
   "metadata": {},
   "outputs": [
    {
     "name": "stdout",
     "output_type": "stream",
     "text": [
      "Subjects are : ['Kannada', 1, 'English', 2]\n",
      "<class 'list'>\n"
     ]
    }
   ],
   "source": [
    "# Favorite Subjects\n",
    "\n",
    "Subjects = ['Kannada',1,'English',2]\n",
    "print('Subjects are :',Subjects)\n",
    "print(type(Subjects))\n"
   ]
  },
  {
   "cell_type": "markdown",
   "metadata": {},
   "source": [
    "    3. Tuple data type\n",
    "\n",
    "We can create tuple data structure by using parenthesis (). A tuple can store different data types. tuple is immutable.\n",
    "\n",
    "    Syntax to create Tuple :\n",
    "\n",
    "    name_of_tuple = (element,...)"
   ]
  },
  {
   "cell_type": "code",
   "execution_count": 8,
   "metadata": {},
   "outputs": [
    {
     "name": "stdout",
     "output_type": "stream",
     "text": [
      "My Details are:  (1, 'giri', 9.5, 'pass')\n",
      "<class 'tuple'>\n"
     ]
    }
   ],
   "source": [
    "Details = (1,'giri',9.5,'pass')\n",
    "print('My Details are: ',Details)\n",
    "print(type(Details))"
   ]
  },
  {
   "cell_type": "code",
   "execution_count": 9,
   "metadata": {},
   "outputs": [
    {
     "name": "stdout",
     "output_type": "stream",
     "text": [
      "Days in a Week : ('sunday', 'monday', 'tuesday', 'wednesday', 'thursday', 'friday', 'saturday')\n",
      "<class 'tuple'>\n"
     ]
    }
   ],
   "source": [
    "Days = ('sunday','monday','tuesday','wednesday','thursday','friday','saturday')\n",
    "print('Days in a Week :',Days)\n",
    "print(type(Days))"
   ]
  },
  {
   "cell_type": "markdown",
   "metadata": {},
   "source": [
    "    4. Set data type\n",
    "\n",
    "We can create set data structure by using curly braces symbols {}. set can store same type and different type of elements.\n",
    "\n",
    "    Syntax to create Set :\n",
    "\n",
    "    name_of_set = {element,...}"
   ]
  },
  {
   "cell_type": "code",
   "execution_count": 10,
   "metadata": {},
   "outputs": [
    {
     "name": "stdout",
     "output_type": "stream",
     "text": [
      "My Details are : {1, 'pass', 'giri', 9.5}\n",
      "<class 'set'>\n"
     ]
    }
   ],
   "source": [
    "Details = {1, 'giri', 9.5,'pass', 1}\n",
    "print('My Details are :', Details)\n",
    "print(type(Details))"
   ]
  },
  {
   "cell_type": "markdown",
   "metadata": {},
   "source": [
    "    5. Dictionary data type\n",
    "We can create dictionary type by using curly braces {}. dict represents a group of elements in the form of key-value pairs like map.\n"
   ]
  },
  {
   "cell_type": "code",
   "execution_count": 11,
   "metadata": {
    "vscode": {
     "languageId": "javascript"
    }
   },
   "outputs": [
    {
     "name": "stdout",
     "output_type": "stream",
     "text": [
      "{1: 'giri', 2: 'ganesh', 3: 'abhi'}\n",
      "<class 'dict'>\n"
     ]
    }
   ],
   "source": [
    "race = {1:'giri',2:'ganesh',3:'abhi'}\n",
    "print(race)\n",
    "print(type(race))"
   ]
  },
  {
   "cell_type": "markdown",
   "metadata": {},
   "source": [
    " # Conversion of Data Types\n",
    "\n",
    "- int() : convert from other type into int type\n",
    "- float() : convert from other type into float type\n",
    "- complex() : convert from other type to complex\n",
    "- bool() : convert from other type into bool type\n",
    "- str() : convert from other type into str type"
   ]
  },
  {
   "cell_type": "markdown",
   "metadata": {},
   "source": [
    "    1. Convert to float"
   ]
  },
  {
   "cell_type": "code",
   "execution_count": 12,
   "metadata": {
    "vscode": {
     "languageId": "javascript"
    }
   },
   "outputs": [
    {
     "name": "stdout",
     "output_type": "stream",
     "text": [
      "65.0\n",
      "<class 'float'>\n"
     ]
    }
   ],
   "source": [
    "i = 65\n",
    "itf = float(i)\n",
    "print(itf)\n",
    "print(type(itf))"
   ]
  },
  {
   "cell_type": "markdown",
   "metadata": {},
   "source": [
    "    2. Convert to integer\n"
   ]
  },
  {
   "cell_type": "code",
   "execution_count": 2,
   "metadata": {},
   "outputs": [
    {
     "name": "stdout",
     "output_type": "stream",
     "text": [
      "65\n",
      "<class 'int'>\n"
     ]
    }
   ],
   "source": [
    "#Convert float to integer data type \n",
    "\n",
    "f = 65.89\n",
    "fti = int(f) #float to Int\n",
    "print(fti)\n",
    "print(type(fti))"
   ]
  },
  {
   "cell_type": "code",
   "execution_count": 1,
   "metadata": {},
   "outputs": [
    {
     "name": "stdout",
     "output_type": "stream",
     "text": [
      "123\n",
      "<class 'int'>\n"
     ]
    }
   ],
   "source": [
    "# Convert string to integer data type\n",
    "\n",
    "st = '123'\n",
    "sti = int(st, 10)\n",
    "print(sti)\n",
    "print(type(sti))"
   ]
  },
  {
   "cell_type": "code",
   "execution_count": 2,
   "metadata": {},
   "outputs": [
    {
     "name": "stdout",
     "output_type": "stream",
     "text": [
      "A\n",
      "<class 'str'>\n"
     ]
    }
   ],
   "source": [
    "#Convert character to integer data type\n",
    "\n",
    "ch = 'A' #Character to Int(ASCII)\n",
    "cti = str(ch)\n",
    "print(cti)\n",
    "print(type(cti))"
   ]
  },
  {
   "cell_type": "markdown",
   "metadata": {},
   "source": [
    "    ord is used to convert string into integer (ASCII) "
   ]
  },
  {
   "cell_type": "code",
   "execution_count": 3,
   "metadata": {},
   "outputs": [
    {
     "name": "stdout",
     "output_type": "stream",
     "text": [
      "65\n",
      "<class 'int'>\n"
     ]
    }
   ],
   "source": [
    "ch = 'A' #Character to Int(ASCII)\n",
    "cti = ord(ch)\n",
    "print(cti)\n",
    "print(type(cti))"
   ]
  },
  {
   "attachments": {
    "image.png": {
     "image/png": "[encoded data removed]"
    }
   },
   "cell_type": "markdown",
   "metadata": {},
   "source": [
    "**What is ASCII Value?**\n",
    "\n",
    "ASCII Value is a standard that assigns letters, numbers, and other characters.\n",
    "\n",
    "![image.png](attachment:image.png)"
   ]
  },
  {
   "cell_type": "markdown",
   "metadata": {},
   "source": [
    "    3. Convert to complex"
   ]
  },
  {
   "cell_type": "code",
   "execution_count": 4,
   "metadata": {},
   "outputs": [
    {
     "name": "stdout",
     "output_type": "stream",
     "text": [
      "(6+0j)\n",
      "<class 'int'>\n"
     ]
    }
   ],
   "source": [
    "r = 6 #Real number. to Complex No.\n",
    "rtc = complex(r)\n",
    "print(rtc)\n",
    "print(type(r))"
   ]
  },
  {
   "cell_type": "markdown",
   "metadata": {},
   "source": [
    "    4. Convert to string"
   ]
  },
  {
   "cell_type": "code",
   "execution_count": 5,
   "metadata": {},
   "outputs": [
    {
     "name": "stdout",
     "output_type": "stream",
     "text": [
      "65\n",
      "<class 'str'>\n"
     ]
    }
   ],
   "source": [
    "# Convert integer to string data type\n",
    "\n",
    "i = 65\n",
    "itst = str(i) #Int to str\n",
    "print(itst)\n",
    "print(type(itst))"
   ]
  },
  {
   "cell_type": "code",
   "execution_count": 6,
   "metadata": {},
   "outputs": [
    {
     "name": "stdout",
     "output_type": "stream",
     "text": [
      "A\n",
      "<class 'str'>\n"
     ]
    }
   ],
   "source": [
    "#Convert ASCII to string data type\n",
    "\n",
    "nta = chr(65)\n",
    "print(nta)\n",
    "print(type(nta))"
   ]
  },
  {
   "cell_type": "markdown",
   "metadata": {},
   "source": [
    "    5. Convert to list"
   ]
  },
  {
   "cell_type": "code",
   "execution_count": 7,
   "metadata": {},
   "outputs": [
    {
     "name": "stdout",
     "output_type": "stream",
     "text": [
      "[1, 'John', 9.5, 'pass']\n",
      "<class 'list'>\n"
     ]
    }
   ],
   "source": [
    "#Convert Tuple to List data type\n",
    "\n",
    "t = (1, 'John', 9.5, 'pass')\n",
    "ttl = list(t) #Tuple to List\n",
    "print(ttl)\n",
    "print(type(ttl))"
   ]
  },
  {
   "cell_type": "code",
   "execution_count": 8,
   "metadata": {},
   "outputs": [
    {
     "name": "stdout",
     "output_type": "stream",
     "text": [
      "[1, 'John', 'pass', 9.5]\n",
      "<class 'list'>\n"
     ]
    }
   ],
   "source": [
    "#Convert Set to List data type\n",
    "s = {1, 'John', 9.5, 'pass'}\n",
    "stl = list(s) #Set to List\n",
    "print(stl)\n",
    "print(type(stl))"
   ]
  },
  {
   "cell_type": "markdown",
   "metadata": {},
   "source": [
    "    6. Convert to tuple"
   ]
  },
  {
   "cell_type": "code",
   "execution_count": 10,
   "metadata": {},
   "outputs": [
    {
     "name": "stdout",
     "output_type": "stream",
     "text": [
      "(1, 'John', 9.5, 'pass')\n",
      "<class 'tuple'>\n"
     ]
    }
   ],
   "source": [
    "# Convert List to Tuple data type\n",
    "\n",
    "l = [1, 'John', 9.5, 'pass']\n",
    "ltt = tuple(l) #List to Tuple\n",
    "print(ltt)\n",
    "print(type(ltt))"
   ]
  },
  {
   "cell_type": "code",
   "execution_count": 11,
   "metadata": {},
   "outputs": [
    {
     "name": "stdout",
     "output_type": "stream",
     "text": [
      "(1, 'John', 'pass', 9.5)\n",
      "<class 'tuple'>\n"
     ]
    }
   ],
   "source": [
    "#  Convert Set to Tuple data type\n",
    "\n",
    "s = {1, 'John', 9.5, 'pass'}\n",
    "stt = tuple(s) #Set to Tuple\n",
    "print(stt)\n",
    "print(type(stt))"
   ]
  },
  {
   "cell_type": "markdown",
   "metadata": {},
   "source": [
    "    7. Convert to set"
   ]
  },
  {
   "cell_type": "code",
   "execution_count": 12,
   "metadata": {},
   "outputs": [
    {
     "name": "stdout",
     "output_type": "stream",
     "text": [
      "{1, 'John', 'pass', 9.5}\n",
      "<class 'set'>\n",
      "{1, 'John', 'pass', 9.5}\n",
      "<class 'set'>\n"
     ]
    }
   ],
   "source": [
    "l = [1, 'John', 9.5, 'pass']\n",
    "lts = set(l) #List to Set\n",
    "print(lts)\n",
    "print(type(lts))\n",
    "t = (1, 'John', 9.5, 'pass')\n",
    "tts=set(t) #Tuple to Set\n",
    "print(tts)\n",
    "print(type(tts))"
   ]
  }
 ],
 "metadata": {
  "kernelspec": {
   "display_name": "base",
   "language": "python",
   "name": "python3"
  },
  "language_info": {
   "codemirror_mode": {
    "name": "ipython",
    "version": 3
   },
   "file_extension": ".py",
   "mimetype": "text/x-python",
   "name": "python",
   "nbconvert_exporter": "python",
   "pygments_lexer": "ipython3",
   "version": "3.11.7"
  }
 },
 "nbformat": 4,
 "nbformat_minor": 2
}
